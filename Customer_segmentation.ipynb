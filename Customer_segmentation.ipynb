{
 "cells": [
  {
   "cell_type": "markdown",
   "metadata": {
    "slideshow": {
     "slide_type": "slide"
    }
   },
   "source": [
    "# Customer Segmentation\n",
    "\n",
    "### Data analysis workflow\n",
    "\n",
    "Selene Reyes"
   ]
  },
  {
   "cell_type": "markdown",
   "metadata": {
    "slideshow": {
     "slide_type": "slide"
    }
   },
   "source": [
    "## Table of Content\n",
    "\n",
    "1. [PROBLEM](#problem)<br>\n",
    "2. [DATA](#data)<br>\n",
    "3. [CUSTOMER SEGMENTATION](#rfm)<br>\n",
    "    3.1 [CUSTOM RFM SEGMENTATION](#cus)<br>\n",
    "    3.2 [SEGMENTS WITH UNSUPERVISED ML (K-MEANS)](#kmeans)"
   ]
  },
  {
   "cell_type": "markdown",
   "metadata": {
    "slideshow": {
     "slide_type": "slide"
    }
   },
   "source": [
    "### Importing libraries"
   ]
  },
  {
   "cell_type": "code",
   "execution_count": 4,
   "metadata": {
    "slideshow": {
     "slide_type": "skip"
    }
   },
   "outputs": [],
   "source": [
    "from urllib.request import urlretrieve\n",
    "import pandas as pd\n",
    "import matplotlib.pyplot as plt\n",
    "import seaborn as sns\n",
    "import numpy as np\n",
    "import datetime as dt\n",
    "from datetime import datetime, date, timedelta\n",
    "import os\n",
    "from scipy.stats import ttest_ind\n",
    "from pandas import set_option\n",
    "from sklearn.preprocessing import StandardScaler\n",
    "from sklearn.metrics import accuracy_score, precision_score, recall_score\n",
    "from sklearn.tree import DecisionTreeClassifier\n",
    "from sklearn.model_selection import train_test_split\n",
    "from sklearn.cluster import KMeans"
   ]
  },
  {
   "attachments": {},
   "cell_type": "markdown",
   "metadata": {},
   "source": [
    "<a id='problem'></a>\n",
    "# 1. Problem\n",
    "\n",
    "In my [Jupyter Notebook](https://github.com/selenerc/Cohort-Analysis-and-CLTV/blob/master/Cohort-Analysis-CLV.ipynb) I performed cohort analysis using online retail data. The customer lifetime value was also determined, considering the customer loyalty. However, customers can be grouped into different groups according their behavior, and that will give the company a better understanding of how to allocate resources for customer acquisition and to define strategies.\n",
    "\n",
    "In this notebook I built segments of homogeneous customers based on their behavior. I used two different approaches:\n",
    "* Custom rules\n",
    "* Unsupervised ML (k-means)"
   ]
  },
  {
   "cell_type": "markdown",
   "metadata": {
    "slideshow": {
     "slide_type": "slide"
    }
   },
   "source": [
    "<a id='data'></a>\n",
    "# 2. Data\n",
    "\n",
    "This data set contains all the transactions occurring between 01/12/2010 and 09/12/2011 for a UK-based online retail business. The company mainly sells unique all-occasion gifts. Many customers of the company are wholesalers.\n",
    "\n",
    " __Data source:__ <br>\n",
    "UCI Machine Learning Repository   __[Link to dataset](https://archive.ics.uci.edu/ml/datasets/Online%20Retail)__"
   ]
  },
  {
   "cell_type": "code",
   "execution_count": 1,
   "metadata": {},
   "outputs": [],
   "source": [
    "URL = 'https://archive.ics.uci.edu/ml/machine-learning-databases/00352/Online%20Retail.xlsx'"
   ]
  },
  {
   "cell_type": "code",
   "execution_count": 5,
   "metadata": {},
   "outputs": [],
   "source": [
    "def get_data(filename='online_retail.xlsx', url=URL):\n",
    "    if not os.path.exists(filename):\n",
    "        urlretrieve(url, filename)\n",
    "    xls = pd.ExcelFile(filename)\n",
    "    data = pd.read_excel(xls, parse_dates = ['InvoiceDate'])\n",
    "    return data"
   ]
  },
  {
   "cell_type": "code",
   "execution_count": 6,
   "metadata": {},
   "outputs": [],
   "source": [
    "online = get_data()"
   ]
  },
  {
   "cell_type": "code",
   "execution_count": 7,
   "metadata": {},
   "outputs": [
    {
     "data": {
      "text/html": [
       "<div>\n",
       "<style scoped>\n",
       "    .dataframe tbody tr th:only-of-type {\n",
       "        vertical-align: middle;\n",
       "    }\n",
       "\n",
       "    .dataframe tbody tr th {\n",
       "        vertical-align: top;\n",
       "    }\n",
       "\n",
       "    .dataframe thead th {\n",
       "        text-align: right;\n",
       "    }\n",
       "</style>\n",
       "<table border=\"1\" class=\"dataframe\">\n",
       "  <thead>\n",
       "    <tr style=\"text-align: right;\">\n",
       "      <th></th>\n",
       "      <th>InvoiceNo</th>\n",
       "      <th>StockCode</th>\n",
       "      <th>Description</th>\n",
       "      <th>Quantity</th>\n",
       "      <th>InvoiceDate</th>\n",
       "      <th>UnitPrice</th>\n",
       "      <th>CustomerID</th>\n",
       "      <th>Country</th>\n",
       "    </tr>\n",
       "  </thead>\n",
       "  <tbody>\n",
       "    <tr>\n",
       "      <th>0</th>\n",
       "      <td>536365</td>\n",
       "      <td>85123A</td>\n",
       "      <td>WHITE HANGING HEART T-LIGHT HOLDER</td>\n",
       "      <td>6</td>\n",
       "      <td>2010-12-01 08:26:00</td>\n",
       "      <td>2.55</td>\n",
       "      <td>17850.0</td>\n",
       "      <td>United Kingdom</td>\n",
       "    </tr>\n",
       "    <tr>\n",
       "      <th>1</th>\n",
       "      <td>536365</td>\n",
       "      <td>71053</td>\n",
       "      <td>WHITE METAL LANTERN</td>\n",
       "      <td>6</td>\n",
       "      <td>2010-12-01 08:26:00</td>\n",
       "      <td>3.39</td>\n",
       "      <td>17850.0</td>\n",
       "      <td>United Kingdom</td>\n",
       "    </tr>\n",
       "    <tr>\n",
       "      <th>2</th>\n",
       "      <td>536365</td>\n",
       "      <td>84406B</td>\n",
       "      <td>CREAM CUPID HEARTS COAT HANGER</td>\n",
       "      <td>8</td>\n",
       "      <td>2010-12-01 08:26:00</td>\n",
       "      <td>2.75</td>\n",
       "      <td>17850.0</td>\n",
       "      <td>United Kingdom</td>\n",
       "    </tr>\n",
       "    <tr>\n",
       "      <th>3</th>\n",
       "      <td>536365</td>\n",
       "      <td>84029G</td>\n",
       "      <td>KNITTED UNION FLAG HOT WATER BOTTLE</td>\n",
       "      <td>6</td>\n",
       "      <td>2010-12-01 08:26:00</td>\n",
       "      <td>3.39</td>\n",
       "      <td>17850.0</td>\n",
       "      <td>United Kingdom</td>\n",
       "    </tr>\n",
       "    <tr>\n",
       "      <th>4</th>\n",
       "      <td>536365</td>\n",
       "      <td>84029E</td>\n",
       "      <td>RED WOOLLY HOTTIE WHITE HEART.</td>\n",
       "      <td>6</td>\n",
       "      <td>2010-12-01 08:26:00</td>\n",
       "      <td>3.39</td>\n",
       "      <td>17850.0</td>\n",
       "      <td>United Kingdom</td>\n",
       "    </tr>\n",
       "  </tbody>\n",
       "</table>\n",
       "</div>"
      ],
      "text/plain": [
       "  InvoiceNo StockCode                          Description  Quantity  \\\n",
       "0    536365    85123A   WHITE HANGING HEART T-LIGHT HOLDER         6   \n",
       "1    536365     71053                  WHITE METAL LANTERN         6   \n",
       "2    536365    84406B       CREAM CUPID HEARTS COAT HANGER         8   \n",
       "3    536365    84029G  KNITTED UNION FLAG HOT WATER BOTTLE         6   \n",
       "4    536365    84029E       RED WOOLLY HOTTIE WHITE HEART.         6   \n",
       "\n",
       "          InvoiceDate  UnitPrice  CustomerID         Country  \n",
       "0 2010-12-01 08:26:00       2.55     17850.0  United Kingdom  \n",
       "1 2010-12-01 08:26:00       3.39     17850.0  United Kingdom  \n",
       "2 2010-12-01 08:26:00       2.75     17850.0  United Kingdom  \n",
       "3 2010-12-01 08:26:00       3.39     17850.0  United Kingdom  \n",
       "4 2010-12-01 08:26:00       3.39     17850.0  United Kingdom  "
      ]
     },
     "execution_count": 7,
     "metadata": {},
     "output_type": "execute_result"
    }
   ],
   "source": [
    "online.head()"
   ]
  },
  {
   "cell_type": "code",
   "execution_count": 31,
   "metadata": {
    "slideshow": {
     "slide_type": "fragment"
    }
   },
   "outputs": [
    {
     "name": "stdout",
     "output_type": "stream",
     "text": [
      "<class 'pandas.core.frame.DataFrame'>\n",
      "Int64Index: 70864 entries, 416792 to 312243\n",
      "Data columns (total 8 columns):\n",
      " #   Column       Non-Null Count  Dtype         \n",
      "---  ------       --------------  -----         \n",
      " 0   InvoiceNo    70864 non-null  int64         \n",
      " 1   StockCode    70864 non-null  object        \n",
      " 2   Description  70864 non-null  object        \n",
      " 3   Quantity     70864 non-null  int64         \n",
      " 4   InvoiceDate  70864 non-null  datetime64[ns]\n",
      " 5   UnitPrice    70864 non-null  float64       \n",
      " 6   CustomerID   70864 non-null  int64         \n",
      " 7   Country      70864 non-null  object        \n",
      "dtypes: datetime64[ns](1), float64(1), int64(3), object(3)\n",
      "memory usage: 4.9+ MB\n"
     ]
    }
   ],
   "source": [
    "online.info()"
   ]
  },
  {
   "cell_type": "markdown",
   "metadata": {},
   "source": [
    "<a id='rfm'></a>\n",
    "# 3. Customer Segmentation \n",
    "\n",
    "### RFM stands for recency, frequency and monetary:\n",
    "\n",
    "* Recency: time since the last customer transaction\n",
    "* Frequency: number of purchases (transactions) in the observed period\n",
    "* Monetary value: total amount spent in the observed period\n",
    "* Tenure: time since the first transaction. It defines how long the customer has been with the company<br>\n",
    "\n",
    "![RFM](RFM.png)"
   ]
  },
  {
   "cell_type": "code",
   "execution_count": 458,
   "metadata": {},
   "outputs": [],
   "source": [
    "# Adding a column \"Amount\" which will be used to calculate the monetary value\n",
    "online['Amount'] = online.UnitPrice * online.Quantity"
   ]
  },
  {
   "cell_type": "code",
   "execution_count": 459,
   "metadata": {},
   "outputs": [
    {
     "data": {
      "text/plain": [
       "'Min:2010-12-10 00:00:00; Max:2011-12-09 00:00:00'"
      ]
     },
     "execution_count": 459,
     "metadata": {},
     "output_type": "execute_result"
    }
   ],
   "source": [
    "online['InvoiceDate']= online.InvoiceDate.dt.round('D')\n",
    "online = online.loc[(online.InvoiceDate >= '2010-12-10') & \n",
    "                    (online.InvoiceDate <= '2011-12-09')]\n",
    "\n",
    "'Min:{}; Max:{}'.format(min(online.InvoiceDate), max(online.InvoiceDate))"
   ]
  },
  {
   "cell_type": "code",
   "execution_count": 460,
   "metadata": {},
   "outputs": [
    {
     "data": {
      "text/plain": [
       "Timestamp('2011-12-10 00:00:00')"
      ]
     },
     "execution_count": 460,
     "metadata": {},
     "output_type": "execute_result"
    }
   ],
   "source": [
    "# Hypothetical snapshot_day data\n",
    "snapshot_date = max(online.InvoiceDate) + dt.timedelta(days=1)\n",
    "snapshot_date.round('D')"
   ]
  },
  {
   "cell_type": "code",
   "execution_count": 461,
   "metadata": {},
   "outputs": [
    {
     "data": {
      "text/html": [
       "<div>\n",
       "<style scoped>\n",
       "    .dataframe tbody tr th:only-of-type {\n",
       "        vertical-align: middle;\n",
       "    }\n",
       "\n",
       "    .dataframe tbody tr th {\n",
       "        vertical-align: top;\n",
       "    }\n",
       "\n",
       "    .dataframe thead th {\n",
       "        text-align: right;\n",
       "    }\n",
       "</style>\n",
       "<table border=\"1\" class=\"dataframe\">\n",
       "  <thead>\n",
       "    <tr style=\"text-align: right;\">\n",
       "      <th></th>\n",
       "      <th>Recency</th>\n",
       "      <th>Frequency</th>\n",
       "      <th>MonetaryValue</th>\n",
       "    </tr>\n",
       "    <tr>\n",
       "      <th>CustomerID</th>\n",
       "      <th></th>\n",
       "      <th></th>\n",
       "      <th></th>\n",
       "    </tr>\n",
       "  </thead>\n",
       "  <tbody>\n",
       "    <tr>\n",
       "      <th>12747</th>\n",
       "      <td>2</td>\n",
       "      <td>25</td>\n",
       "      <td>948.7</td>\n",
       "    </tr>\n",
       "    <tr>\n",
       "      <th>12748</th>\n",
       "      <td>1</td>\n",
       "      <td>880</td>\n",
       "      <td>7032.0</td>\n",
       "    </tr>\n",
       "    <tr>\n",
       "      <th>12749</th>\n",
       "      <td>4</td>\n",
       "      <td>37</td>\n",
       "      <td>813.4</td>\n",
       "    </tr>\n",
       "    <tr>\n",
       "      <th>12820</th>\n",
       "      <td>3</td>\n",
       "      <td>17</td>\n",
       "      <td>268.0</td>\n",
       "    </tr>\n",
       "    <tr>\n",
       "      <th>12822</th>\n",
       "      <td>71</td>\n",
       "      <td>9</td>\n",
       "      <td>146.2</td>\n",
       "    </tr>\n",
       "  </tbody>\n",
       "</table>\n",
       "</div>"
      ],
      "text/plain": [
       "            Recency  Frequency  MonetaryValue\n",
       "CustomerID                                   \n",
       "12747             2         25          948.7\n",
       "12748             1        880         7032.0\n",
       "12749             4         37          813.4\n",
       "12820             3         17          268.0\n",
       "12822            71          9          146.2"
      ]
     },
     "execution_count": 461,
     "metadata": {},
     "output_type": "execute_result"
    }
   ],
   "source": [
    "# RFM metrics\n",
    "\n",
    "# Calculate Recency, Frequency and Monetary value for each customer \n",
    "datamart = online.groupby(['CustomerID']).agg({\n",
    "    # diff of the hypothetical today and the last transaction\n",
    "    'InvoiceDate': lambda x: (snapshot_date - x.max()).days,\n",
    "    # frequency of invoices\n",
    "    'InvoiceNo': 'count',\n",
    "    # Sum all the spend\n",
    "    'Amount': 'sum'})\n",
    "\n",
    "datamart.rename(columns={'InvoiceDate': 'Recency',\n",
    "                        'InvoiceNo': 'Frequency',\n",
    "                        'Amount': 'MonetaryValue'}, inplace=True)\n",
    "\n",
    "datamart.head() # RFM for each customer as of today"
   ]
  },
  {
   "cell_type": "markdown",
   "metadata": {},
   "source": [
    "<a id='cus'></a>\n",
    "## 3.1 Building custom RFM segments\n",
    "\n",
    "### Categorization of RFM values using Percentiles-Based method: \n",
    "> ### Percentiles\n",
    ">> 1. Sort customers based on metric\n",
    ">> 2. Break customers into a pre-defined number of groups\n",
    ">> 3. Assign label to each group"
   ]
  },
  {
   "cell_type": "code",
   "execution_count": 462,
   "metadata": {},
   "outputs": [
    {
     "data": {
      "text/html": [
       "<div>\n",
       "<style scoped>\n",
       "    .dataframe tbody tr th:only-of-type {\n",
       "        vertical-align: middle;\n",
       "    }\n",
       "\n",
       "    .dataframe tbody tr th {\n",
       "        vertical-align: top;\n",
       "    }\n",
       "\n",
       "    .dataframe thead th {\n",
       "        text-align: right;\n",
       "    }\n",
       "</style>\n",
       "<table border=\"1\" class=\"dataframe\">\n",
       "  <thead>\n",
       "    <tr style=\"text-align: right;\">\n",
       "      <th></th>\n",
       "      <th>Recency</th>\n",
       "      <th>Frequency</th>\n",
       "      <th>MonetaryValue</th>\n",
       "      <th>R</th>\n",
       "      <th>F</th>\n",
       "      <th>M</th>\n",
       "    </tr>\n",
       "    <tr>\n",
       "      <th>CustomerID</th>\n",
       "      <th></th>\n",
       "      <th></th>\n",
       "      <th></th>\n",
       "      <th></th>\n",
       "      <th></th>\n",
       "      <th></th>\n",
       "    </tr>\n",
       "  </thead>\n",
       "  <tbody>\n",
       "    <tr>\n",
       "      <th>12747</th>\n",
       "      <td>2</td>\n",
       "      <td>25</td>\n",
       "      <td>948.7</td>\n",
       "      <td>4</td>\n",
       "      <td>4</td>\n",
       "      <td>4</td>\n",
       "    </tr>\n",
       "    <tr>\n",
       "      <th>12748</th>\n",
       "      <td>1</td>\n",
       "      <td>880</td>\n",
       "      <td>7032.0</td>\n",
       "      <td>4</td>\n",
       "      <td>4</td>\n",
       "      <td>4</td>\n",
       "    </tr>\n",
       "    <tr>\n",
       "      <th>12749</th>\n",
       "      <td>4</td>\n",
       "      <td>37</td>\n",
       "      <td>813.4</td>\n",
       "      <td>4</td>\n",
       "      <td>4</td>\n",
       "      <td>4</td>\n",
       "    </tr>\n",
       "    <tr>\n",
       "      <th>12820</th>\n",
       "      <td>3</td>\n",
       "      <td>17</td>\n",
       "      <td>268.0</td>\n",
       "      <td>4</td>\n",
       "      <td>3</td>\n",
       "      <td>3</td>\n",
       "    </tr>\n",
       "    <tr>\n",
       "      <th>12822</th>\n",
       "      <td>71</td>\n",
       "      <td>9</td>\n",
       "      <td>146.2</td>\n",
       "      <td>2</td>\n",
       "      <td>2</td>\n",
       "      <td>3</td>\n",
       "    </tr>\n",
       "  </tbody>\n",
       "</table>\n",
       "</div>"
      ],
      "text/plain": [
       "            Recency  Frequency  MonetaryValue  R  F  M\n",
       "CustomerID                                            \n",
       "12747             2         25          948.7  4  4  4\n",
       "12748             1        880         7032.0  4  4  4\n",
       "12749             4         37          813.4  4  4  4\n",
       "12820             3         17          268.0  4  3  3\n",
       "12822            71          9          146.2  2  2  3"
      ]
     },
     "execution_count": 462,
     "metadata": {},
     "output_type": "execute_result"
    }
   ],
   "source": [
    "# low label is better - 4\n",
    "r_labels = range(4,0,-1) \n",
    "\n",
    "r_quartiles = pd.qcut(datamart['Recency'], 4, labels= r_labels)\n",
    "\n",
    "# assign values to a new column called \"R\"\n",
    "datamart = datamart.assign(R = r_quartiles.values) \n",
    "\n",
    "# For frequency and monetary value, high label is better - 4 (visit more often, spend more)\n",
    "f_labels = range(1,5)\n",
    "m_labels = range(1,5)\n",
    "\n",
    "f_quartiles = pd.qcut(datamart['Frequency'], 4, labels= f_labels)\n",
    "m_quartiles = pd.qcut(datamart['MonetaryValue'], 4, labels= m_labels)\n",
    "\n",
    "datamart = datamart.assign(F = f_quartiles.values)\n",
    "datamart = datamart.assign(M = m_quartiles.values)\n",
    "\n",
    "datamart.head()"
   ]
  },
  {
   "cell_type": "code",
   "execution_count": 463,
   "metadata": {},
   "outputs": [
    {
     "data": {
      "text/html": [
       "<div>\n",
       "<style scoped>\n",
       "    .dataframe tbody tr th:only-of-type {\n",
       "        vertical-align: middle;\n",
       "    }\n",
       "\n",
       "    .dataframe tbody tr th {\n",
       "        vertical-align: top;\n",
       "    }\n",
       "\n",
       "    .dataframe thead th {\n",
       "        text-align: right;\n",
       "    }\n",
       "</style>\n",
       "<table border=\"1\" class=\"dataframe\">\n",
       "  <thead>\n",
       "    <tr style=\"text-align: right;\">\n",
       "      <th></th>\n",
       "      <th>Recency</th>\n",
       "      <th>Frequency</th>\n",
       "      <th>MonetaryValue</th>\n",
       "      <th>R</th>\n",
       "      <th>F</th>\n",
       "      <th>M</th>\n",
       "      <th>RFM_Segment</th>\n",
       "      <th>RFM_Score</th>\n",
       "    </tr>\n",
       "    <tr>\n",
       "      <th>CustomerID</th>\n",
       "      <th></th>\n",
       "      <th></th>\n",
       "      <th></th>\n",
       "      <th></th>\n",
       "      <th></th>\n",
       "      <th></th>\n",
       "      <th></th>\n",
       "      <th></th>\n",
       "    </tr>\n",
       "  </thead>\n",
       "  <tbody>\n",
       "    <tr>\n",
       "      <th>13682</th>\n",
       "      <td>187</td>\n",
       "      <td>2</td>\n",
       "      <td>42.5</td>\n",
       "      <td>1</td>\n",
       "      <td>1</td>\n",
       "      <td>1</td>\n",
       "      <td>111</td>\n",
       "      <td>3.0</td>\n",
       "    </tr>\n",
       "    <tr>\n",
       "      <th>15852</th>\n",
       "      <td>197</td>\n",
       "      <td>4</td>\n",
       "      <td>11.6</td>\n",
       "      <td>1</td>\n",
       "      <td>1</td>\n",
       "      <td>1</td>\n",
       "      <td>111</td>\n",
       "      <td>3.0</td>\n",
       "    </tr>\n",
       "    <tr>\n",
       "      <th>13551</th>\n",
       "      <td>319</td>\n",
       "      <td>1</td>\n",
       "      <td>17.9</td>\n",
       "      <td>1</td>\n",
       "      <td>1</td>\n",
       "      <td>1</td>\n",
       "      <td>111</td>\n",
       "      <td>3.0</td>\n",
       "    </tr>\n",
       "    <tr>\n",
       "      <th>17278</th>\n",
       "      <td>241</td>\n",
       "      <td>3</td>\n",
       "      <td>53.0</td>\n",
       "      <td>1</td>\n",
       "      <td>1</td>\n",
       "      <td>1</td>\n",
       "      <td>111</td>\n",
       "      <td>3.0</td>\n",
       "    </tr>\n",
       "    <tr>\n",
       "      <th>15882</th>\n",
       "      <td>199</td>\n",
       "      <td>1</td>\n",
       "      <td>5.9</td>\n",
       "      <td>1</td>\n",
       "      <td>1</td>\n",
       "      <td>1</td>\n",
       "      <td>111</td>\n",
       "      <td>3.0</td>\n",
       "    </tr>\n",
       "  </tbody>\n",
       "</table>\n",
       "</div>"
      ],
      "text/plain": [
       "            Recency  Frequency  MonetaryValue  R  F  M RFM_Segment  RFM_Score\n",
       "CustomerID                                                                   \n",
       "13682           187          2           42.5  1  1  1         111        3.0\n",
       "15852           197          4           11.6  1  1  1         111        3.0\n",
       "13551           319          1           17.9  1  1  1         111        3.0\n",
       "17278           241          3           53.0  1  1  1         111        3.0\n",
       "15882           199          1            5.9  1  1  1         111        3.0"
      ]
     },
     "execution_count": 463,
     "metadata": {},
     "output_type": "execute_result"
    }
   ],
   "source": [
    "# Build RFM Segment and FRM Score (sum of RFM value)\n",
    "\n",
    "def join_rfm(x): return str(x['R']) + str(x['F']) + str(x['M']):\n",
    "    \"\"\"Creates the concatenated list of RFM values converted to strings\n",
    "    \n",
    "    Args:\n",
    "        x (df): contains the columns R, F, and M\n",
    "    \n",
    "    Returns:\n",
    "        (str): RFM values \n",
    "    \"\"\"\n",
    "datamart['RFM_Segment'] = datamart.apply(join_rfm, axis=1)\n",
    "datamart['RFM_Score'] = datamart[['R', 'F', 'M']].sum(axis=1)\n",
    "\n",
    "datamart.sort_values(by=['RFM_Segment']).head()"
   ]
  },
  {
   "cell_type": "markdown",
   "metadata": {},
   "source": [
    "### We can understand our segments or check specific customers"
   ]
  },
  {
   "cell_type": "code",
   "execution_count": 466,
   "metadata": {},
   "outputs": [
    {
     "data": {
      "text/plain": [
       "RFM_Segment\n",
       "444    368\n",
       "111    343\n",
       "211    169\n",
       "344    164\n",
       "233    131\n",
       "dtype: int64"
      ]
     },
     "execution_count": 466,
     "metadata": {},
     "output_type": "execute_result"
    }
   ],
   "source": [
    "# Size of the 5 largest RFM segments\n",
    "datamart.groupby('RFM_Segment').size().sort_values(ascending=False)[:5]"
   ]
  },
  {
   "cell_type": "code",
   "execution_count": 467,
   "metadata": {},
   "outputs": [
    {
     "data": {
      "text/html": [
       "<div>\n",
       "<style scoped>\n",
       "    .dataframe tbody tr th:only-of-type {\n",
       "        vertical-align: middle;\n",
       "    }\n",
       "\n",
       "    .dataframe tbody tr th {\n",
       "        vertical-align: top;\n",
       "    }\n",
       "\n",
       "    .dataframe thead th {\n",
       "        text-align: right;\n",
       "    }\n",
       "</style>\n",
       "<table border=\"1\" class=\"dataframe\">\n",
       "  <thead>\n",
       "    <tr style=\"text-align: right;\">\n",
       "      <th></th>\n",
       "      <th>Recency</th>\n",
       "      <th>Frequency</th>\n",
       "      <th>MonetaryValue</th>\n",
       "      <th>R</th>\n",
       "      <th>F</th>\n",
       "      <th>M</th>\n",
       "      <th>RFM_Segment</th>\n",
       "      <th>RFM_Score</th>\n",
       "    </tr>\n",
       "    <tr>\n",
       "      <th>CustomerID</th>\n",
       "      <th></th>\n",
       "      <th></th>\n",
       "      <th></th>\n",
       "      <th></th>\n",
       "      <th></th>\n",
       "      <th></th>\n",
       "      <th></th>\n",
       "      <th></th>\n",
       "    </tr>\n",
       "  </thead>\n",
       "  <tbody>\n",
       "    <tr>\n",
       "      <th>12747</th>\n",
       "      <td>2</td>\n",
       "      <td>25</td>\n",
       "      <td>948.7</td>\n",
       "      <td>4</td>\n",
       "      <td>4</td>\n",
       "      <td>4</td>\n",
       "      <td>444</td>\n",
       "      <td>12.0</td>\n",
       "    </tr>\n",
       "    <tr>\n",
       "      <th>12748</th>\n",
       "      <td>1</td>\n",
       "      <td>880</td>\n",
       "      <td>7032.0</td>\n",
       "      <td>4</td>\n",
       "      <td>4</td>\n",
       "      <td>4</td>\n",
       "      <td>444</td>\n",
       "      <td>12.0</td>\n",
       "    </tr>\n",
       "    <tr>\n",
       "      <th>12749</th>\n",
       "      <td>4</td>\n",
       "      <td>37</td>\n",
       "      <td>813.4</td>\n",
       "      <td>4</td>\n",
       "      <td>4</td>\n",
       "      <td>4</td>\n",
       "      <td>444</td>\n",
       "      <td>12.0</td>\n",
       "    </tr>\n",
       "    <tr>\n",
       "      <th>12839</th>\n",
       "      <td>2</td>\n",
       "      <td>54</td>\n",
       "      <td>947.6</td>\n",
       "      <td>4</td>\n",
       "      <td>4</td>\n",
       "      <td>4</td>\n",
       "      <td>444</td>\n",
       "      <td>12.0</td>\n",
       "    </tr>\n",
       "    <tr>\n",
       "      <th>12841</th>\n",
       "      <td>5</td>\n",
       "      <td>70</td>\n",
       "      <td>631.0</td>\n",
       "      <td>4</td>\n",
       "      <td>4</td>\n",
       "      <td>4</td>\n",
       "      <td>444</td>\n",
       "      <td>12.0</td>\n",
       "    </tr>\n",
       "  </tbody>\n",
       "</table>\n",
       "</div>"
      ],
      "text/plain": [
       "            Recency  Frequency  MonetaryValue  R  F  M RFM_Segment  RFM_Score\n",
       "CustomerID                                                                   \n",
       "12747             2         25          948.7  4  4  4         444       12.0\n",
       "12748             1        880         7032.0  4  4  4         444       12.0\n",
       "12749             4         37          813.4  4  4  4         444       12.0\n",
       "12839             2         54          947.6  4  4  4         444       12.0\n",
       "12841             5         70          631.0  4  4  4         444       12.0"
      ]
     },
     "execution_count": 467,
     "metadata": {},
     "output_type": "execute_result"
    }
   ],
   "source": [
    "# Select 5 customers that are in the top RFM segment \"444\" \n",
    "datamart[datamart['RFM_Segment']=='444'][:5]"
   ]
  },
  {
   "cell_type": "markdown",
   "metadata": {},
   "source": [
    "## Summary metrics per RFM Score\n",
    "\n",
    ">> ### Average and Frequency"
   ]
  },
  {
   "cell_type": "code",
   "execution_count": 468,
   "metadata": {},
   "outputs": [
    {
     "data": {
      "text/html": [
       "<div>\n",
       "<style scoped>\n",
       "    .dataframe tbody tr th:only-of-type {\n",
       "        vertical-align: middle;\n",
       "    }\n",
       "\n",
       "    .dataframe tbody tr th {\n",
       "        vertical-align: top;\n",
       "    }\n",
       "\n",
       "    .dataframe thead tr th {\n",
       "        text-align: left;\n",
       "    }\n",
       "\n",
       "    .dataframe thead tr:last-of-type th {\n",
       "        text-align: right;\n",
       "    }\n",
       "</style>\n",
       "<table border=\"1\" class=\"dataframe\">\n",
       "  <thead>\n",
       "    <tr>\n",
       "      <th></th>\n",
       "      <th>Recency</th>\n",
       "      <th>Frequency</th>\n",
       "      <th colspan=\"2\" halign=\"left\">MonetaryValue</th>\n",
       "    </tr>\n",
       "    <tr>\n",
       "      <th></th>\n",
       "      <th>mean</th>\n",
       "      <th>mean</th>\n",
       "      <th>mean</th>\n",
       "      <th>count</th>\n",
       "    </tr>\n",
       "    <tr>\n",
       "      <th>RFM_Score</th>\n",
       "      <th></th>\n",
       "      <th></th>\n",
       "      <th></th>\n",
       "      <th></th>\n",
       "    </tr>\n",
       "  </thead>\n",
       "  <tbody>\n",
       "    <tr>\n",
       "      <th>3.0</th>\n",
       "      <td>247.2</td>\n",
       "      <td>2.1</td>\n",
       "      <td>28.6</td>\n",
       "      <td>343</td>\n",
       "    </tr>\n",
       "    <tr>\n",
       "      <th>4.0</th>\n",
       "      <td>162.2</td>\n",
       "      <td>3.1</td>\n",
       "      <td>47.8</td>\n",
       "      <td>336</td>\n",
       "    </tr>\n",
       "    <tr>\n",
       "      <th>5.0</th>\n",
       "      <td>138.3</td>\n",
       "      <td>4.3</td>\n",
       "      <td>77.7</td>\n",
       "      <td>396</td>\n",
       "    </tr>\n",
       "    <tr>\n",
       "      <th>6.0</th>\n",
       "      <td>101.9</td>\n",
       "      <td>6.4</td>\n",
       "      <td>146.7</td>\n",
       "      <td>441</td>\n",
       "    </tr>\n",
       "    <tr>\n",
       "      <th>7.0</th>\n",
       "      <td>78.2</td>\n",
       "      <td>8.6</td>\n",
       "      <td>159.8</td>\n",
       "      <td>391</td>\n",
       "    </tr>\n",
       "    <tr>\n",
       "      <th>8.0</th>\n",
       "      <td>62.3</td>\n",
       "      <td>12.8</td>\n",
       "      <td>198.5</td>\n",
       "      <td>374</td>\n",
       "    </tr>\n",
       "    <tr>\n",
       "      <th>9.0</th>\n",
       "      <td>45.7</td>\n",
       "      <td>16.6</td>\n",
       "      <td>329.0</td>\n",
       "      <td>344</td>\n",
       "    </tr>\n",
       "    <tr>\n",
       "      <th>10.0</th>\n",
       "      <td>31.4</td>\n",
       "      <td>24.1</td>\n",
       "      <td>442.8</td>\n",
       "      <td>355</td>\n",
       "    </tr>\n",
       "    <tr>\n",
       "      <th>11.0</th>\n",
       "      <td>21.6</td>\n",
       "      <td>39.0</td>\n",
       "      <td>714.1</td>\n",
       "      <td>300</td>\n",
       "    </tr>\n",
       "    <tr>\n",
       "      <th>12.0</th>\n",
       "      <td>7.4</td>\n",
       "      <td>76.1</td>\n",
       "      <td>1665.6</td>\n",
       "      <td>368</td>\n",
       "    </tr>\n",
       "  </tbody>\n",
       "</table>\n",
       "</div>"
      ],
      "text/plain": [
       "          Recency Frequency MonetaryValue      \n",
       "             mean      mean          mean count\n",
       "RFM_Score                                      \n",
       "3.0         247.2       2.1          28.6   343\n",
       "4.0         162.2       3.1          47.8   336\n",
       "5.0         138.3       4.3          77.7   396\n",
       "6.0         101.9       6.4         146.7   441\n",
       "7.0          78.2       8.6         159.8   391\n",
       "8.0          62.3      12.8         198.5   374\n",
       "9.0          45.7      16.6         329.0   344\n",
       "10.0         31.4      24.1         442.8   355\n",
       "11.0         21.6      39.0         714.1   300\n",
       "12.0          7.4      76.1        1665.6   368"
      ]
     },
     "execution_count": 468,
     "metadata": {},
     "output_type": "execute_result"
    }
   ],
   "source": [
    "datamart.groupby('RFM_Score').agg({'Recency': 'mean',\n",
    "                                   'Frequency': 'mean',\n",
    "                                   'MonetaryValue': ['mean', 'count'] }).round(1)"
   ]
  },
  {
   "cell_type": "markdown",
   "metadata": {},
   "source": [
    "## Grouping into custom segments\n",
    "> ### Gold, Silver, Bronze"
   ]
  },
  {
   "cell_type": "code",
   "execution_count": 469,
   "metadata": {},
   "outputs": [],
   "source": [
    "def segment_me(df):\n",
    "    \"\"\"Returns different segments: Gold, Silver, Bronze\n",
    "    based on the RFM_Score value thresholds\n",
    "    \n",
    "    Args:\n",
    "        df\n",
    "    \n",
    "    Returns:\n",
    "        str: Gold, Silver, Bronze\n",
    "    \"\"\"\n",
    "    if df['RFM_Score']>=9:\n",
    "        return '1. Gold'\n",
    "    elif (df['RFM_Score'] >= 5) and (df['RFM_Score'] < 9):\n",
    "        return '2. Silver'\n",
    "    else:\n",
    "        return '3. Bronze'"
   ]
  },
  {
   "cell_type": "code",
   "execution_count": 471,
   "metadata": {},
   "outputs": [
    {
     "data": {
      "text/html": [
       "<div>\n",
       "<style scoped>\n",
       "    .dataframe tbody tr th:only-of-type {\n",
       "        vertical-align: middle;\n",
       "    }\n",
       "\n",
       "    .dataframe tbody tr th {\n",
       "        vertical-align: top;\n",
       "    }\n",
       "\n",
       "    .dataframe thead tr th {\n",
       "        text-align: left;\n",
       "    }\n",
       "\n",
       "    .dataframe thead tr:last-of-type th {\n",
       "        text-align: right;\n",
       "    }\n",
       "</style>\n",
       "<table border=\"1\" class=\"dataframe\">\n",
       "  <thead>\n",
       "    <tr>\n",
       "      <th></th>\n",
       "      <th>Recency</th>\n",
       "      <th>Frequency</th>\n",
       "      <th colspan=\"2\" halign=\"left\">MonetaryValue</th>\n",
       "    </tr>\n",
       "    <tr>\n",
       "      <th></th>\n",
       "      <th>mean</th>\n",
       "      <th>mean</th>\n",
       "      <th>mean</th>\n",
       "      <th>count</th>\n",
       "    </tr>\n",
       "    <tr>\n",
       "      <th>Segment</th>\n",
       "      <th></th>\n",
       "      <th></th>\n",
       "      <th></th>\n",
       "      <th></th>\n",
       "    </tr>\n",
       "  </thead>\n",
       "  <tbody>\n",
       "    <tr>\n",
       "      <th>1. Gold</th>\n",
       "      <td>26.4</td>\n",
       "      <td>39.5</td>\n",
       "      <td>802.9</td>\n",
       "      <td>1367</td>\n",
       "    </tr>\n",
       "    <tr>\n",
       "      <th>2. Silver</th>\n",
       "      <td>95.8</td>\n",
       "      <td>7.9</td>\n",
       "      <td>144.9</td>\n",
       "      <td>1602</td>\n",
       "    </tr>\n",
       "    <tr>\n",
       "      <th>3. Bronze</th>\n",
       "      <td>205.2</td>\n",
       "      <td>2.6</td>\n",
       "      <td>38.1</td>\n",
       "      <td>679</td>\n",
       "    </tr>\n",
       "  </tbody>\n",
       "</table>\n",
       "</div>"
      ],
      "text/plain": [
       "          Recency Frequency MonetaryValue      \n",
       "             mean      mean          mean count\n",
       "Segment                                        \n",
       "1. Gold      26.4      39.5         802.9  1367\n",
       "2. Silver    95.8       7.9         144.9  1602\n",
       "3. Bronze   205.2       2.6          38.1   679"
      ]
     },
     "execution_count": 471,
     "metadata": {},
     "output_type": "execute_result"
    }
   ],
   "source": [
    "# Create a variable called \"Segment\"\n",
    "datamart['Segment'] = datamart.apply(segment_me, axis=1)\n",
    "\n",
    "datamart.groupby('Segment').agg({'Recency': 'mean',\n",
    "                                'Frequency': 'mean',\n",
    "                                'MonetaryValue': ['mean', 'count'] }).round(1)"
   ]
  },
  {
   "cell_type": "markdown",
   "metadata": {},
   "source": [
    "### What is the average MonetaryValue for the segment with RFM_Score of 9?"
   ]
  },
  {
   "cell_type": "code",
   "execution_count": 474,
   "metadata": {},
   "outputs": [
    {
     "name": "stdout",
     "output_type": "stream",
     "text": [
      "The average monetary value for a RFM score of 9 is $ 329\n"
     ]
    }
   ],
   "source": [
    "monetary_value_9 = datamart[datamart.RFM_Score == 9].MonetaryValue.mean()\n",
    "print(f'The average monetary value for a RFM score of 9 is $ {monetary_value_9:.0f}')"
   ]
  },
  {
   "cell_type": "markdown",
   "metadata": {},
   "source": [
    "<a id='kmeans'></a>\n",
    "## 3.2 Building segments with unsupervised ML (k-Means clustering)\n",
    "\n",
    "To build this model itwas used k-Means, an unsupervised ML algorithm (it does not have labels to train the model).\n",
    "\n",
    "### K-Means assumptions:\n",
    "> ### - Symmetric distribution of variables \n",
    "> ### - Variables with same mean values \n",
    "> ### - Variables with same variance"
   ]
  },
  {
   "cell_type": "markdown",
   "metadata": {},
   "source": [
    "## 3.2.1 Data Preprocessing"
   ]
  },
  {
   "cell_type": "code",
   "execution_count": 475,
   "metadata": {},
   "outputs": [
    {
     "data": {
      "text/html": [
       "<div>\n",
       "<style scoped>\n",
       "    .dataframe tbody tr th:only-of-type {\n",
       "        vertical-align: middle;\n",
       "    }\n",
       "\n",
       "    .dataframe tbody tr th {\n",
       "        vertical-align: top;\n",
       "    }\n",
       "\n",
       "    .dataframe thead th {\n",
       "        text-align: right;\n",
       "    }\n",
       "</style>\n",
       "<table border=\"1\" class=\"dataframe\">\n",
       "  <thead>\n",
       "    <tr style=\"text-align: right;\">\n",
       "      <th></th>\n",
       "      <th>Recency</th>\n",
       "      <th>Frequency</th>\n",
       "      <th>MonetaryValue</th>\n",
       "      <th>Tenure</th>\n",
       "    </tr>\n",
       "    <tr>\n",
       "      <th>CustomerID</th>\n",
       "      <th></th>\n",
       "      <th></th>\n",
       "      <th></th>\n",
       "      <th></th>\n",
       "    </tr>\n",
       "  </thead>\n",
       "  <tbody>\n",
       "    <tr>\n",
       "      <th>12747</th>\n",
       "      <td>3</td>\n",
       "      <td>25</td>\n",
       "      <td>948.7</td>\n",
       "      <td>362</td>\n",
       "    </tr>\n",
       "    <tr>\n",
       "      <th>12748</th>\n",
       "      <td>2</td>\n",
       "      <td>880</td>\n",
       "      <td>7032.0</td>\n",
       "      <td>365</td>\n",
       "    </tr>\n",
       "    <tr>\n",
       "      <th>12749</th>\n",
       "      <td>5</td>\n",
       "      <td>37</td>\n",
       "      <td>813.4</td>\n",
       "      <td>213</td>\n",
       "    </tr>\n",
       "    <tr>\n",
       "      <th>12820</th>\n",
       "      <td>4</td>\n",
       "      <td>17</td>\n",
       "      <td>268.0</td>\n",
       "      <td>326</td>\n",
       "    </tr>\n",
       "    <tr>\n",
       "      <th>12822</th>\n",
       "      <td>72</td>\n",
       "      <td>9</td>\n",
       "      <td>146.2</td>\n",
       "      <td>87</td>\n",
       "    </tr>\n",
       "  </tbody>\n",
       "</table>\n",
       "</div>"
      ],
      "text/plain": [
       "            Recency  Frequency  MonetaryValue  Tenure\n",
       "CustomerID                                           \n",
       "12747             3         25          948.7     362\n",
       "12748             2        880         7032.0     365\n",
       "12749             5         37          813.4     213\n",
       "12820             4         17          268.0     326\n",
       "12822            72          9          146.2      87"
      ]
     },
     "execution_count": 475,
     "metadata": {},
     "output_type": "execute_result"
    }
   ],
   "source": [
    "# RFM metrics\n",
    "\n",
    "# Calculate Recency, Frequency and Monetary value for each customer \n",
    "data = online.groupby(['CustomerID']).agg({\n",
    "    # diff of the hypothetical today and the last transaction\n",
    "    'InvoiceDate': lambda x: (snapshot_date - x.max()).days +1,\n",
    "    # frequency of invoices\n",
    "    'InvoiceNo': 'count',\n",
    "    # Sum all the spend\n",
    "    'Amount': 'sum'})\n",
    "\n",
    "data.rename(columns={'InvoiceDate': 'Recency',\n",
    "                        'InvoiceNo': 'Frequency',\n",
    "                        'Amount': 'MonetaryValue'}, inplace=True)\n",
    "\n",
    "data['Tenure'] = online.groupby(['CustomerID']).agg({\n",
    "    'InvoiceDate': lambda x: (snapshot_date - x.min()).days})\n",
    "\n",
    "data.head() # RFM for each customer as of today"
   ]
  },
  {
   "cell_type": "code",
   "execution_count": 476,
   "metadata": {},
   "outputs": [
    {
     "name": "stdout",
     "output_type": "stream",
     "text": [
      "<class 'pandas.core.frame.DataFrame'>\n",
      "Int64Index: 3648 entries, 12747 to 18287\n",
      "Data columns (total 4 columns):\n",
      "Recency          3648 non-null int64\n",
      "Frequency        3648 non-null int64\n",
      "MonetaryValue    3648 non-null float64\n",
      "Tenure           3648 non-null int64\n",
      "dtypes: float64(1), int64(3)\n",
      "memory usage: 142.5 KB\n",
      "None\n"
     ]
    }
   ],
   "source": [
    "print(data.info())"
   ]
  },
  {
   "cell_type": "markdown",
   "metadata": {},
   "source": [
    "### Checking symmetry (skewness)"
   ]
  },
  {
   "cell_type": "code",
   "execution_count": 520,
   "metadata": {},
   "outputs": [
    {
     "data": {
      "image/png": "[encoded data removed]",
      "text/plain": [
       "<matplotlib.figure.Figure at 0x1a1d60b588>"
      ]
     },
     "metadata": {},
     "output_type": "display_data"
    }
   ],
   "source": [
    "import warnings\n",
    "warnings.filterwarnings('ignore')\n",
    "import sys \n",
    "# Plot distribution of variables\n",
    "plt.figure(figsize=(10, 13))\n",
    "sns.set_context('talk', font_scale=1)\n",
    "plt.subplot(4, 1, 1); sns.distplot(data['Recency'])\n",
    "plt.box(False)\n",
    "plt.subplot(4, 1, 2); sns.distplot(data['Frequency'])\n",
    "plt.box(False)\n",
    "plt.subplot(4, 1, 3); sns.distplot(data['MonetaryValue'])\n",
    "plt.box(False)\n",
    "plt.subplot(4, 1, 4); sns.distplot(data['Tenure'])\n",
    "plt.box(False);"
   ]
  },
  {
   "cell_type": "code",
   "execution_count": 478,
   "metadata": {},
   "outputs": [
    {
     "data": {
      "text/html": [
       "<div>\n",
       "<style scoped>\n",
       "    .dataframe tbody tr th:only-of-type {\n",
       "        vertical-align: middle;\n",
       "    }\n",
       "\n",
       "    .dataframe tbody tr th {\n",
       "        vertical-align: top;\n",
       "    }\n",
       "\n",
       "    .dataframe thead th {\n",
       "        text-align: right;\n",
       "    }\n",
       "</style>\n",
       "<table border=\"1\" class=\"dataframe\">\n",
       "  <thead>\n",
       "    <tr style=\"text-align: right;\">\n",
       "      <th></th>\n",
       "      <th>Recency</th>\n",
       "      <th>Frequency</th>\n",
       "      <th>MonetaryValue</th>\n",
       "      <th>Tenure</th>\n",
       "    </tr>\n",
       "  </thead>\n",
       "  <tbody>\n",
       "    <tr>\n",
       "      <th>count</th>\n",
       "      <td>3648.0</td>\n",
       "      <td>3648.0</td>\n",
       "      <td>3648.0</td>\n",
       "      <td>3648.0</td>\n",
       "    </tr>\n",
       "    <tr>\n",
       "      <th>mean</th>\n",
       "      <td>91.2</td>\n",
       "      <td>18.8</td>\n",
       "      <td>371.6</td>\n",
       "      <td>207.1</td>\n",
       "    </tr>\n",
       "    <tr>\n",
       "      <th>std</th>\n",
       "      <td>94.9</td>\n",
       "      <td>43.8</td>\n",
       "      <td>1365.4</td>\n",
       "      <td>113.4</td>\n",
       "    </tr>\n",
       "    <tr>\n",
       "      <th>min</th>\n",
       "      <td>2.0</td>\n",
       "      <td>1.0</td>\n",
       "      <td>0.7</td>\n",
       "      <td>1.0</td>\n",
       "    </tr>\n",
       "    <tr>\n",
       "      <th>25%</th>\n",
       "      <td>19.0</td>\n",
       "      <td>4.0</td>\n",
       "      <td>59.0</td>\n",
       "      <td>91.0</td>\n",
       "    </tr>\n",
       "    <tr>\n",
       "      <th>50%</th>\n",
       "      <td>52.0</td>\n",
       "      <td>9.0</td>\n",
       "      <td>136.9</td>\n",
       "      <td>233.0</td>\n",
       "    </tr>\n",
       "    <tr>\n",
       "      <th>75%</th>\n",
       "      <td>142.0</td>\n",
       "      <td>21.0</td>\n",
       "      <td>334.7</td>\n",
       "      <td>308.0</td>\n",
       "    </tr>\n",
       "    <tr>\n",
       "      <th>max</th>\n",
       "      <td>366.0</td>\n",
       "      <td>1510.0</td>\n",
       "      <td>49974.6</td>\n",
       "      <td>365.0</td>\n",
       "    </tr>\n",
       "  </tbody>\n",
       "</table>\n",
       "</div>"
      ],
      "text/plain": [
       "       Recency  Frequency  MonetaryValue  Tenure\n",
       "count   3648.0     3648.0         3648.0  3648.0\n",
       "mean      91.2       18.8          371.6   207.1\n",
       "std       94.9       43.8         1365.4   113.4\n",
       "min        2.0        1.0            0.7     1.0\n",
       "25%       19.0        4.0           59.0    91.0\n",
       "50%       52.0        9.0          136.9   233.0\n",
       "75%      142.0       21.0          334.7   308.0\n",
       "max      366.0     1510.0        49974.6   365.0"
      ]
     },
     "execution_count": 478,
     "metadata": {},
     "output_type": "execute_result"
    }
   ],
   "source": [
    "data.describe()"
   ]
  },
  {
   "cell_type": "markdown",
   "metadata": {},
   "source": [
    "### The variables are skewed and are on different scales\n",
    "\n",
    "### Sequence of the pre-processing pipeline\n",
    "> ### 1. Unskew the data - log transformation\n",
    "> ### 2. Standardize to the same average values\n",
    "> ### 3. Scale to the same standaard deviation\n",
    "> ### 4. Store as a separate array to be used for clustering"
   ]
  },
  {
   "cell_type": "code",
   "execution_count": 509,
   "metadata": {},
   "outputs": [],
   "source": [
    "# Unskew the data with log transformation\n",
    "data_log = np.log(data[['Recency', 'Frequency','MonetaryValue']])\n",
    "data_log = data_log.assign(Tenure = data.Tenure) \n",
    "\n",
    "# Normalize the variables with StandardScaler (Scale and center the data)\n",
    "# Substract avg value from each observation and dividing by the std ==> mean=0 and std=1\n",
    "scaler = StandardScaler()\n",
    "scaler.fit(data_log)\n",
    "\n",
    "# Store as a separate array to be used for clustering\n",
    "data_normalized = scaler.transform(data_log)\n",
    "\n",
    "# Create a pandas DataFrame\n",
    "data_normalized = pd.DataFrame(data=data_normalized, \n",
    "                                   index=data_log.index, \n",
    "                                   columns=data_log.columns)"
   ]
  },
  {
   "cell_type": "code",
   "execution_count": 519,
   "metadata": {},
   "outputs": [
    {
     "data": {
      "image/png": "[encoded data removed]",
      "text/plain": [
       "<matplotlib.figure.Figure at 0x1a2522b898>"
      ]
     },
     "metadata": {},
     "output_type": "display_data"
    }
   ],
   "source": [
    "# Plot distribution of variables\n",
    "plt.figure(figsize=(10, 13))\n",
    "plt.subplot(4, 1, 1); sns.distplot(data_normalized['Recency'])\n",
    "plt.box(False)\n",
    "\n",
    "plt.subplot(4, 1, 2); sns.distplot(data_normalized['Frequency'])\n",
    "plt.box(False)\n",
    "\n",
    "plt.subplot(4, 1, 3); sns.distplot(data_normalized['MonetaryValue'])\n",
    "plt.box(False)\n",
    "\n",
    "plt.subplot(4, 1, 4); sns.distplot(data_normalized['Tenure'])\n",
    "plt.box(False);"
   ]
  },
  {
   "cell_type": "code",
   "execution_count": 481,
   "metadata": {},
   "outputs": [
    {
     "data": {
      "text/html": [
       "<div>\n",
       "<style scoped>\n",
       "    .dataframe tbody tr th:only-of-type {\n",
       "        vertical-align: middle;\n",
       "    }\n",
       "\n",
       "    .dataframe tbody tr th {\n",
       "        vertical-align: top;\n",
       "    }\n",
       "\n",
       "    .dataframe thead th {\n",
       "        text-align: right;\n",
       "    }\n",
       "</style>\n",
       "<table border=\"1\" class=\"dataframe\">\n",
       "  <thead>\n",
       "    <tr style=\"text-align: right;\">\n",
       "      <th></th>\n",
       "      <th>Recency</th>\n",
       "      <th>Frequency</th>\n",
       "      <th>MonetaryValue</th>\n",
       "      <th>Tenure</th>\n",
       "    </tr>\n",
       "  </thead>\n",
       "  <tbody>\n",
       "    <tr>\n",
       "      <th>count</th>\n",
       "      <td>3648.0</td>\n",
       "      <td>3648.0</td>\n",
       "      <td>3648.0</td>\n",
       "      <td>3648.0</td>\n",
       "    </tr>\n",
       "    <tr>\n",
       "      <th>mean</th>\n",
       "      <td>0.0</td>\n",
       "      <td>0.0</td>\n",
       "      <td>0.0</td>\n",
       "      <td>-0.0</td>\n",
       "    </tr>\n",
       "    <tr>\n",
       "      <th>std</th>\n",
       "      <td>1.0</td>\n",
       "      <td>1.0</td>\n",
       "      <td>1.0</td>\n",
       "      <td>1.0</td>\n",
       "    </tr>\n",
       "    <tr>\n",
       "      <th>min</th>\n",
       "      <td>-2.4</td>\n",
       "      <td>-1.8</td>\n",
       "      <td>-4.1</td>\n",
       "      <td>-1.8</td>\n",
       "    </tr>\n",
       "    <tr>\n",
       "      <th>25%</th>\n",
       "      <td>-0.7</td>\n",
       "      <td>-0.7</td>\n",
       "      <td>-0.7</td>\n",
       "      <td>-1.0</td>\n",
       "    </tr>\n",
       "    <tr>\n",
       "      <th>50%</th>\n",
       "      <td>0.1</td>\n",
       "      <td>0.0</td>\n",
       "      <td>-0.0</td>\n",
       "      <td>0.2</td>\n",
       "    </tr>\n",
       "    <tr>\n",
       "      <th>75%</th>\n",
       "      <td>0.9</td>\n",
       "      <td>0.7</td>\n",
       "      <td>0.7</td>\n",
       "      <td>0.9</td>\n",
       "    </tr>\n",
       "    <tr>\n",
       "      <th>max</th>\n",
       "      <td>1.6</td>\n",
       "      <td>4.3</td>\n",
       "      <td>4.5</td>\n",
       "      <td>1.4</td>\n",
       "    </tr>\n",
       "  </tbody>\n",
       "</table>\n",
       "</div>"
      ],
      "text/plain": [
       "       Recency  Frequency  MonetaryValue  Tenure\n",
       "count   3648.0     3648.0         3648.0  3648.0\n",
       "mean       0.0        0.0            0.0    -0.0\n",
       "std        1.0        1.0            1.0     1.0\n",
       "min       -2.4       -1.8           -4.1    -1.8\n",
       "25%       -0.7       -0.7           -0.7    -1.0\n",
       "50%        0.1        0.0           -0.0     0.2\n",
       "75%        0.9        0.7            0.7     0.9\n",
       "max        1.6        4.3            4.5     1.4"
      ]
     },
     "execution_count": 481,
     "metadata": {},
     "output_type": "execute_result"
    }
   ],
   "source": [
    "data_normalized.describe().round(1)"
   ]
  },
  {
   "cell_type": "markdown",
   "metadata": {},
   "source": [
    "## 3.2.2 Implementation of k-means clustering \n",
    "### Steps:\n",
    "> ### 1. Choosing a number of clusters\n",
    "> ### 2. Running k-means clustering on pre-processed data\n",
    "> ### 3. Analyzing RFM values of each cluster"
   ]
  },
  {
   "cell_type": "markdown",
   "metadata": {},
   "source": [
    "### 1. Choosing number of clusters\n",
    "\n",
    "### Elbow method ==> choose a _k_ so that the SSE of the distances decreases drastically"
   ]
  },
  {
   "cell_type": "code",
   "execution_count": 486,
   "metadata": {},
   "outputs": [],
   "source": [
    "# SSE: sum of squared errors\n",
    "# Fit KMeans and calculate SEE for each *k*\n",
    "\n",
    "see = {}\n",
    "for k in range(1,11):\n",
    "    kmeans = KMeans(n_clusters=k, random_state=1)\n",
    "    kmeans.fit(datamart_normalized)\n",
    "    see[k] = kmeans.inertia_ #sum of squared distances to closest cluster center"
   ]
  },
  {
   "cell_type": "code",
   "execution_count": 523,
   "metadata": {},
   "outputs": [
    {
     "data": {
      "image/png": "[encoded data removed]",
      "text/plain": [
       "<matplotlib.figure.Figure at 0x1a1ba05c88>"
      ]
     },
     "metadata": {},
     "output_type": "display_data"
    }
   ],
   "source": [
    "# Plot SEE for each *k*\n",
    "plt.figure(figsize=(10, 5))\n",
    "sns.set_context('talk', font_scale=1.1)\n",
    "sns.set_style(\"ticks\")\n",
    "plt.title('The Elblow Method', size=20)\n",
    "plt.xlabel('k')\n",
    "plt.ylabel('SEE')\n",
    "sns.pointplot(x=list(see.keys()), y=list(see.values()))\n",
    "sns.despine();"
   ]
  },
  {
   "cell_type": "markdown",
   "metadata": {},
   "source": [
    "### 2. Running k-means clustering on pre-processed data"
   ]
  },
  {
   "cell_type": "code",
   "execution_count": 488,
   "metadata": {},
   "outputs": [],
   "source": [
    "kmeans = KMeans(n_clusters = 4, random_state=1)\n",
    "kmeans.fit(data_normalized)\n",
    "cluster_labels = kmeans.labels_"
   ]
  },
  {
   "cell_type": "code",
   "execution_count": 514,
   "metadata": {},
   "outputs": [
    {
     "data": {
      "text/html": [
       "<div>\n",
       "<style scoped>\n",
       "    .dataframe tbody tr th:only-of-type {\n",
       "        vertical-align: middle;\n",
       "    }\n",
       "\n",
       "    .dataframe tbody tr th {\n",
       "        vertical-align: top;\n",
       "    }\n",
       "\n",
       "    .dataframe thead th {\n",
       "        text-align: right;\n",
       "    }\n",
       "</style>\n",
       "<table border=\"1\" class=\"dataframe\">\n",
       "  <thead>\n",
       "    <tr style=\"text-align: right;\">\n",
       "      <th></th>\n",
       "      <th>Cluster</th>\n",
       "      <th>0</th>\n",
       "      <th>1</th>\n",
       "      <th>2</th>\n",
       "      <th>3</th>\n",
       "    </tr>\n",
       "  </thead>\n",
       "  <tbody>\n",
       "    <tr>\n",
       "      <th rowspan=\"2\" valign=\"top\">Recency</th>\n",
       "      <th>mean</th>\n",
       "      <td>13.8</td>\n",
       "      <td>41.3</td>\n",
       "      <td>221.1</td>\n",
       "      <td>98.6</td>\n",
       "    </tr>\n",
       "    <tr>\n",
       "      <th>median</th>\n",
       "      <td>10.0</td>\n",
       "      <td>34.0</td>\n",
       "      <td>220.0</td>\n",
       "      <td>69.5</td>\n",
       "    </tr>\n",
       "    <tr>\n",
       "      <th rowspan=\"2\" valign=\"top\">Frequency</th>\n",
       "      <th>mean</th>\n",
       "      <td>55.4</td>\n",
       "      <td>7.7</td>\n",
       "      <td>3.3</td>\n",
       "      <td>16.0</td>\n",
       "    </tr>\n",
       "    <tr>\n",
       "      <th>median</th>\n",
       "      <td>37.0</td>\n",
       "      <td>5.0</td>\n",
       "      <td>3.0</td>\n",
       "      <td>13.0</td>\n",
       "    </tr>\n",
       "    <tr>\n",
       "      <th rowspan=\"2\" valign=\"top\">MonetaryValue</th>\n",
       "      <th>mean</th>\n",
       "      <td>1176.0</td>\n",
       "      <td>118.6</td>\n",
       "      <td>57.7</td>\n",
       "      <td>300.4</td>\n",
       "    </tr>\n",
       "    <tr>\n",
       "      <th>median</th>\n",
       "      <td>609.1</td>\n",
       "      <td>78.2</td>\n",
       "      <td>45.3</td>\n",
       "      <td>212.3</td>\n",
       "    </tr>\n",
       "    <tr>\n",
       "      <th rowspan=\"3\" valign=\"top\">Tenure</th>\n",
       "      <th>mean</th>\n",
       "      <td>288.3</td>\n",
       "      <td>65.2</td>\n",
       "      <td>238.2</td>\n",
       "      <td>274.5</td>\n",
       "    </tr>\n",
       "    <tr>\n",
       "      <th>median</th>\n",
       "      <td>313.0</td>\n",
       "      <td>59.0</td>\n",
       "      <td>243.0</td>\n",
       "      <td>281.0</td>\n",
       "    </tr>\n",
       "    <tr>\n",
       "      <th>count</th>\n",
       "      <td>744.0</td>\n",
       "      <td>1085.0</td>\n",
       "      <td>801.0</td>\n",
       "      <td>1018.0</td>\n",
       "    </tr>\n",
       "  </tbody>\n",
       "</table>\n",
       "</div>"
      ],
      "text/plain": [
       "Cluster                    0       1      2       3\n",
       "Recency       mean      13.8    41.3  221.1    98.6\n",
       "              median    10.0    34.0  220.0    69.5\n",
       "Frequency     mean      55.4     7.7    3.3    16.0\n",
       "              median    37.0     5.0    3.0    13.0\n",
       "MonetaryValue mean    1176.0   118.6   57.7   300.4\n",
       "              median   609.1    78.2   45.3   212.3\n",
       "Tenure        mean     288.3    65.2  238.2   274.5\n",
       "              median   313.0    59.0  243.0   281.0\n",
       "              count    744.0  1085.0  801.0  1018.0"
      ]
     },
     "execution_count": 514,
     "metadata": {},
     "output_type": "execute_result"
    }
   ],
   "source": [
    "# Create a cluster label column in the original DataFrame + cluster column\n",
    "datamart_rfmt_k4 = data.assign(Cluster = cluster_labels)\n",
    "\n",
    "# Group by cluster\n",
    "grouped = datamart_rfmt_k4.groupby(['Cluster'])\n",
    "\n",
    "# Calculate average, median RFMT values and segment sizes for each cluster\n",
    "grouped.agg({\n",
    "    'Recency': ['mean','median'],\n",
    "    'Frequency': ['mean','median'],\n",
    "    'MonetaryValue': ['mean','median'],\n",
    "    'Tenure': ['mean','median','count']\n",
    "  }).round(1).T"
   ]
  },
  {
   "cell_type": "markdown",
   "metadata": {},
   "source": [
    "### 3. Analyzing RFM values of each cluster"
   ]
  },
  {
   "cell_type": "code",
   "execution_count": 502,
   "metadata": {},
   "outputs": [],
   "source": [
    "def plotting_boxplot(df):\n",
    "    \"\"\"Generates boxplots of the RFMT variables by cluster, \n",
    "    using the results of the cluster\"\"\"\n",
    "    for column in df:\n",
    "        if column not in ['Cluster', 'MonetaryValue','Frequency']:\n",
    "            box_plot_df = pd.melt(df[[str(column), 'Cluster']],\n",
    "                  id_vars=\"Cluster\",\n",
    "                  var_name=\"feature\",\n",
    "                  value_name='value')\n",
    "        \n",
    "            plt.figure(figsize=(12, 4))\n",
    "            sns.boxplot(x=\"feature\",y=\"value\", hue=\"Cluster\", \n",
    "                        data=box_plot_df, palette='Blues', width=.5)\n",
    "            plt.title('Distribution of ' + str(column)+' (in days)\\n', size = 16)\n",
    "            plt.ylim(0,400)\n",
    "            plt.legend(loc='best', title= 'Clusters');\n",
    "        \n",
    "        elif column in ['MonetaryValue']:\n",
    "            box_plot_df = pd.melt(df[[str(column), 'Cluster']],\n",
    "                  id_vars=\"Cluster\",\n",
    "                  var_name=\"feature\",\n",
    "                  value_name='value')\n",
    "        \n",
    "            plt.figure(figsize=(12, 4))\n",
    "            sns.boxplot(x=\"feature\",y=\"value\", hue=\"Cluster\", \n",
    "                        data=box_plot_df, palette='Blues', width=.5)\n",
    "            plt.title('Distribution of ' + str(column)+' ($)\\n', size = 16)\n",
    "            plt.ylim(0,1200)\n",
    "            plt.legend(loc='best', title= 'Clusters');\n",
    "        \n",
    "        elif column in ['Frequency']:\n",
    "            box_plot_df = pd.melt(df[[str(column), 'Cluster']],\n",
    "                  id_vars=\"Cluster\",\n",
    "                  var_name=\"feature\",\n",
    "                  value_name='value')\n",
    "        \n",
    "            plt.figure(figsize=(12, 4))\n",
    "            sns.boxplot(x=\"feature\",y=\"value\", hue=\"Cluster\", \n",
    "                        data=box_plot_df, palette='Blues', width=.5)\n",
    "            plt.title('Distribution of ' + str(column)+' (Number)\\n', size = 16)\n",
    "            plt.ylim(0,80)\n",
    "            plt.legend(loc='best', title= 'Clusters');       \n",
    "        \n",
    "        else:\n",
    "            print('')"
   ]
  },
  {
   "cell_type": "code",
   "execution_count": 503,
   "metadata": {},
   "outputs": [
    {
     "name": "stdout",
     "output_type": "stream",
     "text": [
      "\n"
     ]
    },
    {
     "data": {
      "image/png": "[encoded data removed]",
      "text/plain": [
       "<matplotlib.figure.Figure at 0x1a1b9b62e8>"
      ]
     },
     "metadata": {},
     "output_type": "display_data"
    },
    {
     "data": {
      "image/png": "[encoded data removed]",
      "text/plain": [
       "<matplotlib.figure.Figure at 0x1a1b9b63c8>"
      ]
     },
     "metadata": {},
     "output_type": "display_data"
    },
    {
     "data": {
      "image/png": "[encoded data removed]",
      "text/plain": [
       "<matplotlib.figure.Figure at 0x1a1ba27cf8>"
      ]
     },
     "metadata": {},
     "output_type": "display_data"
    },
    {
     "data": {
      "image/png": "[encoded data removed]",
      "text/plain": [
       "<matplotlib.figure.Figure at 0x1a2390d518>"
      ]
     },
     "metadata": {},
     "output_type": "display_data"
    }
   ],
   "source": [
    "plotting_boxplot(datamart_rfmt_k4)"
   ]
  },
  {
   "cell_type": "code",
   "execution_count": 500,
   "metadata": {},
   "outputs": [
    {
     "name": "stdout",
     "output_type": "stream",
     "text": [
      "\n"
     ]
    },
    {
     "data": {
      "image/png": "[encoded data removed]",
      "text/plain": [
       "<matplotlib.figure.Figure at 0x1a1d290e48>"
      ]
     },
     "metadata": {},
     "output_type": "display_data"
    }
   ],
   "source": [
    "grouped_averages = datamart_rfmt_k4.groupby(['Cluster']).mean().round(0)\n",
    "\n",
    "plt.figure(figsize=(15,7))\n",
    "sns.set_context('paper', font_scale=1.9)\n",
    "plt.title('RFMT SEGMENTS\\n')\n",
    "g = sns.heatmap(data=grouped_averages, annot=True, fmt='.0f',cmap='Blues')\n",
    "g.set_yticklabels(g.get_yticklabels(), rotation=0, horizontalalignment='right');"
   ]
  },
  {
   "cell_type": "code",
   "execution_count": null,
   "metadata": {},
   "outputs": [],
   "source": []
  }
 ],
 "metadata": {
  "celltoolbar": "Raw Cell Format",
  "kernelspec": {
   "display_name": "Python 3",
   "language": "python",
   "name": "python3"
  },
  "language_info": {
   "codemirror_mode": {
    "name": "ipython",
    "version": 3
   },
   "file_extension": ".py",
   "mimetype": "text/x-python",
   "name": "python",
   "nbconvert_exporter": "python",
   "pygments_lexer": "ipython3",
   "version": "3.6.4"
  }
 },
 "nbformat": 4,
 "nbformat_minor": 2
}
